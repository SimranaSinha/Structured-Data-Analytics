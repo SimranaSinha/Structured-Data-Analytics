{
 "cells": [
  {
   "cell_type": "code",
   "execution_count": 2,
   "id": "1d19b394-a444-4623-9ebc-7b59d28ce1a0",
   "metadata": {},
   "outputs": [
    {
     "name": "stdout",
     "output_type": "stream",
     "text": [
      "Printing sum of current and previous number in a range(10):\n",
      "Current Number: 0 Previous Number: 0 Sum: 0\n",
      "Current Number: 1 Previous Number: 0 Sum: 1\n",
      "Current Number: 2 Previous Number: 1 Sum: 3\n",
      "Current Number: 3 Previous Number: 2 Sum: 5\n",
      "Current Number: 4 Previous Number: 3 Sum: 7\n",
      "Current Number: 5 Previous Number: 4 Sum: 9\n",
      "Current Number: 6 Previous Number: 5 Sum: 11\n",
      "Current Number: 7 Previous Number: 6 Sum: 13\n",
      "Current Number: 8 Previous Number: 7 Sum: 15\n",
      "Current Number: 9 Previous Number: 8 Sum: 17\n"
     ]
    }
   ],
   "source": [
    "#lab19_1\n",
    "# Initialize previous number\n",
    "previous_num = 0\n",
    "\n",
    "print(\"Printing sum of current and previous number in a range(10):\")\n",
    "\n",
    "# Iterate through the first 10 numbers\n",
    "for i in range(10):\n",
    "    # Calculate sum of current and previous number\n",
    "    sum_nums = i + previous_num\n",
    "    print(\"Current Number:\", i, \"Previous Number:\", previous_num, \"Sum:\", sum_nums)\n",
    "    \n",
    "    # Update previous number to current number\n",
    "    previous_num = i"
   ]
  },
  {
   "cell_type": "code",
   "execution_count": 3,
   "id": "4e8f82a6-f4f4-411e-90a7-a4285d058448",
   "metadata": {},
   "outputs": [
    {
     "name": "stdout",
     "output_type": "stream",
     "text": [
      "The substring \"data\" appears 3 times in the given string.\n"
     ]
    }
   ],
   "source": [
    "#lab19_2\n",
    "# Given string\n",
    "str_x = \"\"\"Human health can be monitored using several types of data. The data collected \n",
    "from scans, labs, and procedures can be used for research purposes. The key to using data \n",
    "effectively is .... \"\"\"\n",
    "\n",
    "# Count occurrences of substring \"data\"\n",
    "count_data = str_x.count(\"data\")\n",
    "\n",
    "# Print the result\n",
    "print(f'The substring \"data\" appears {count_data} times in the given string.')\n"
   ]
  },
  {
   "cell_type": "code",
   "execution_count": 4,
   "id": "39acf265-4b00-49c9-8939-11abf2800a10",
   "metadata": {},
   "outputs": [
    {
     "name": "stdout",
     "output_type": "stream",
     "text": [
      "Digits in reverse order:\n",
      "3 4 6 8 5 8 4 "
     ]
    }
   ],
   "source": [
    "#lab19_3\n",
    "# Given number\n",
    "num = 4858643\n",
    "\n",
    "# Print message\n",
    "print(\"Digits in reverse order:\")\n",
    "\n",
    "# Loop to extract digits\n",
    "while num > 0:\n",
    "    digit = num % 10  # Get the last digit\n",
    "    print(digit, end=\" \")  # Print the digit with space\n",
    "    num = num // 10  # Remove the last digit"
   ]
  },
  {
   "cell_type": "code",
   "execution_count": 5,
   "id": "2604d2dc-c65e-4493-b945-05859dcf212d",
   "metadata": {},
   "outputs": [
    {
     "name": "stdin",
     "output_type": "stream",
     "text": [
      "Enter the first number:  18\n",
      "Enter the second number:  20\n"
     ]
    },
    {
     "name": "stdout",
     "output_type": "stream",
     "text": [
      "\n",
      "Results:\n",
      "Addition: 18.0 + 20.0 = 38.0\n",
      "Subtraction: 18.0 - 20.0 = -2.0\n",
      "Multiplication: 18.0 × 20.0 = 360.0\n",
      "Division: 18.0 ÷ 20.0 = 0.9\n"
     ]
    }
   ],
   "source": [
    "#lab19_4\n",
    "# Calculator Program\n",
    "\n",
    "# Taking user input for two numbers\n",
    "num1 = float(input(\"Enter the first number: \"))\n",
    "num2 = float(input(\"Enter the second number: \"))\n",
    "\n",
    "# Performing calculations\n",
    "addition = num1 + num2\n",
    "subtraction = num1 - num2\n",
    "multiplication = num1 * num2\n",
    "\n",
    "# Handling division to avoid division by zero error\n",
    "if num2 != 0:\n",
    "    division = num1 / num2\n",
    "else:\n",
    "    division = \"Undefined (division by zero is not allowed)\"\n",
    "\n",
    "# Displaying results\n",
    "print(\"\\nResults:\")\n",
    "print(f\"Addition: {num1} + {num2} = {addition}\")\n",
    "print(f\"Subtraction: {num1} - {num2} = {subtraction}\")\n",
    "print(f\"Multiplication: {num1} × {num2} = {multiplication}\")\n",
    "print(f\"Division: {num1} ÷ {num2} = {division}\")\n"
   ]
  },
  {
   "cell_type": "code",
   "execution_count": 9,
   "id": "9cbd9831-5b8a-4781-9cc5-e59cf6b116f7",
   "metadata": {},
   "outputs": [
    {
     "name": "stdout",
     "output_type": "stream",
     "text": [
      "Fibonacci Series up to 10 terms:\n",
      "0 1 1 2 3 5 8 13 21 34 "
     ]
    }
   ],
   "source": [
    "#lab19_5\n",
    "# Initialize the first two numbers\n",
    "num1, num2 = 0, 1\n",
    "\n",
    "print(\"Fibonacci Series up to 10 terms:\")\n",
    "\n",
    "# Loop to generate 10 terms\n",
    "for _ in range(10):\n",
    "    print(num1, end=\" \")  # Print the current term\n",
    "    res = num1 + num2  # Calculate the next term\n",
    "    num1, num2 = num2, res  # Update values for the next iteration"
   ]
  },
  {
   "cell_type": "code",
   "execution_count": 9,
   "id": "17ca6046-93d1-4676-8517-9854afa8f497",
   "metadata": {},
   "outputs": [],
   "source": [
    "import math\n",
    "import turtle\n",
    "import random\n",
    "import tkinter as tk\n",
    "from tkinter import ttk, colorchooser\n",
    "\n",
    "class FractalTreeApp:\n",
    "    def __init__(self, root):\n",
    "        self.root = root\n",
    "        self.root.title(\"Fractal Tree Generator\")\n",
    "        self.root.geometry(\"800x600\")\n",
    "        \n",
    "        # Setup main frames\n",
    "        self.control_frame = ttk.Frame(root, padding=\"10\")\n",
    "        self.control_frame.pack(side=tk.LEFT, fill=tk.Y)\n",
    "        \n",
    "        self.canvas_frame = ttk.Frame(root)\n",
    "        self.canvas_frame.pack(side=tk.RIGHT, fill=tk.BOTH, expand=True)\n",
    "        \n",
    "        # Create turtle canvas\n",
    "        self.canvas = tk.Canvas(self.canvas_frame, bg=\"white\", width=600, height=500)\n",
    "        self.canvas.pack(fill=tk.BOTH, expand=True)\n",
    "        \n",
    "        # Create turtle screen\n",
    "        self.screen = turtle.TurtleScreen(self.canvas)\n",
    "        self.screen.tracer(0)  # Turn off animation for speed\n",
    "        self.turtle = turtle.RawTurtle(self.screen)\n",
    "        self.turtle.hideturtle()\n",
    "        self.turtle.speed(0)\n",
    "        \n",
    "        # Control variables\n",
    "        self.iterations = tk.IntVar(value=8)\n",
    "        self.branch_length = tk.DoubleVar(value=100.0)\n",
    "        self.angle = tk.DoubleVar(value=30.0)\n",
    "        self.reduction = tk.DoubleVar(value=0.75)\n",
    "        self.branch_color = \"#008000\"  # Default green\n",
    "        self.randomize_var = tk.BooleanVar(value=False)\n",
    "        \n",
    "        # Create controls\n",
    "        self.create_controls()\n",
    "        \n",
    "    def create_controls(self):\n",
    "        ttk.Label(self.control_frame, text=\"Fractal Tree Controls\", font=(\"Arial\", 14, \"bold\")).pack(pady=10)\n",
    "        \n",
    "        # Iterations slider\n",
    "        ttk.Label(self.control_frame, text=\"Iterations:\").pack(anchor=tk.W, pady=(10, 0))\n",
    "        iterations_slider = ttk.Scale(self.control_frame, from_=1, to=12, \n",
    "                                     variable=self.iterations, orient=tk.HORIZONTAL, length=200)\n",
    "        iterations_slider.pack(fill=tk.X, pady=5)\n",
    "        \n",
    "        # Branch length slider\n",
    "        ttk.Label(self.control_frame, text=\"Initial Branch Length:\").pack(anchor=tk.W, pady=(10, 0))\n",
    "        length_slider = ttk.Scale(self.control_frame, from_=20, to=200, \n",
    "                                variable=self.branch_length, orient=tk.HORIZONTAL, length=200)\n",
    "        length_slider.pack(fill=tk.X, pady=5)\n",
    "        \n",
    "        # Angle slider\n",
    "        ttk.Label(self.control_frame, text=\"Branch Angle (degrees):\").pack(anchor=tk.W, pady=(10, 0))\n",
    "        angle_slider = ttk.Scale(self.control_frame, from_=5, to=60, \n",
    "                              variable=self.angle, orient=tk.HORIZONTAL, length=200)\n",
    "        angle_slider.pack(fill=tk.X, pady=5)\n",
    "        \n",
    "        # Reduction slider\n",
    "        ttk.Label(self.control_frame, text=\"Length Reduction:\").pack(anchor=tk.W, pady=(10, 0))\n",
    "        reduction_slider = ttk.Scale(self.control_frame, from_=0.5, to=0.9, \n",
    "                                  variable=self.reduction, orient=tk.HORIZONTAL, length=200)\n",
    "        reduction_slider.pack(fill=tk.X, pady=5)\n",
    "        \n",
    "        # Color picker\n",
    "        ttk.Label(self.control_frame, text=\"Branch Color:\").pack(anchor=tk.W, pady=(10, 0))\n",
    "        color_button = ttk.Button(self.control_frame, text=\"Choose Color\", \n",
    "                                command=self.choose_color)\n",
    "        color_button.pack(fill=tk.X, pady=5)\n",
    "        \n",
    "        # Color indicator\n",
    "        self.color_indicator = tk.Canvas(self.control_frame, width=200, height=20, bg=self.branch_color)\n",
    "        self.color_indicator.pack(pady=5)\n",
    "        \n",
    "        # Randomize option\n",
    "        randomize_check = ttk.Checkbutton(self.control_frame, text=\"Randomize Parameters\",\n",
    "                                       variable=self.randomize_var)\n",
    "        randomize_check.pack(anchor=tk.W, pady=10)\n",
    "        \n",
    "        # Generate button\n",
    "        generate_button = ttk.Button(self.control_frame, text=\"Generate Tree\",\n",
    "                                  command=self.generate_tree)\n",
    "        generate_button.pack(fill=tk.X, pady=10)\n",
    "        \n",
    "        # Reset button\n",
    "        reset_button = ttk.Button(self.control_frame, text=\"Reset Canvas\",\n",
    "                               command=self.reset_canvas)\n",
    "        reset_button.pack(fill=tk.X, pady=5)\n",
    "    \n",
    "    def choose_color(self):\n",
    "        color = colorchooser.askcolor(initialcolor=self.branch_color)\n",
    "        if color[1]:  # If color is selected (not canceled)\n",
    "            self.branch_color = color[1]\n",
    "            self.color_indicator.config(bg=self.branch_color)\n",
    "    \n",
    "    def reset_canvas(self):\n",
    "        self.screen.clear()\n",
    "        self.screen.update()\n",
    "    \n",
    "    def generate_tree(self):\n",
    "        # Reset canvas\n",
    "        self.reset_canvas()\n",
    "        \n",
    "        # Randomize if needed\n",
    "        if self.randomize_var.get():\n",
    "            self.iterations.set(random.randint(5, 10))\n",
    "            self.branch_length.set(random.uniform(80, 150))\n",
    "            self.angle.set(random.uniform(15, 45))\n",
    "            self.reduction.set(random.uniform(0.6, 0.85))\n",
    "            r, g, b = random.randint(0, 255), random.randint(0, 255), random.randint(0, 255)\n",
    "            self.branch_color = f'#{r:02x}{g:02x}{b:02x}'\n",
    "            self.color_indicator.config(bg=self.branch_color)\n",
    "        \n",
    "        # Get canvas dimensions\n",
    "        canvas_width = self.canvas.winfo_width()\n",
    "        canvas_height = self.canvas.winfo_height()\n",
    "        \n",
    "        # If dimensions are 1 (not yet realized), use defaults\n",
    "        if canvas_width <= 1:\n",
    "            canvas_width = 600\n",
    "        if canvas_height <= 1:\n",
    "            canvas_height = 500\n",
    "            \n",
    "        # Position turtle in the center bottom of the canvas\n",
    "        self.turtle.penup()\n",
    "        self.turtle.setposition(0, -canvas_height/4)  # Bottom quarter of the canvas\n",
    "        self.turtle.setheading(90)  # Point upward\n",
    "        self.turtle.pendown()\n",
    "        \n",
    "        # Draw tree\n",
    "        self.turtle.pencolor(self.branch_color)\n",
    "        self.draw_tree(self.branch_length.get(), self.iterations.get())\n",
    "        \n",
    "        # Update display\n",
    "        self.screen.update()\n",
    "    \n",
    "    def draw_tree(self, branch_length, iterations):\n",
    "        if iterations <= 0:\n",
    "            return\n",
    "        \n",
    "        # Calculate pen width based on iteration level\n",
    "        self.turtle.pensize(iterations)\n",
    "        \n",
    "        # Darken color slightly for trunk/larger branches\n",
    "        if iterations > 3:\n",
    "            # Darken the color\n",
    "            color = self.branch_color\n",
    "            r = int(color[1:3], 16) * 0.8\n",
    "            g = int(color[3:5], 16) * 0.8\n",
    "            b = int(color[5:7], 16) * 0.8\n",
    "            self.turtle.pencolor(f'#{int(r):02x}{int(g):02x}{int(b):02x}')\n",
    "        else:\n",
    "            self.turtle.pencolor(self.branch_color)\n",
    "        \n",
    "        # Draw branch\n",
    "        self.turtle.forward(branch_length)\n",
    "        \n",
    "        # Save position and heading\n",
    "        pos = self.turtle.position()\n",
    "        heading = self.turtle.heading()\n",
    "        \n",
    "        # Right branch\n",
    "        self.turtle.right(self.angle.get())\n",
    "        self.draw_tree(branch_length * self.reduction.get(), iterations - 1)\n",
    "        \n",
    "        # Left branch\n",
    "        self.turtle.penup()\n",
    "        self.turtle.setposition(pos)\n",
    "        self.turtle.setheading(heading)\n",
    "        self.turtle.pendown()\n",
    "        self.turtle.left(self.angle.get())\n",
    "        self.draw_tree(branch_length * self.reduction.get(), iterations - 1)\n",
    "\n",
    "# Special function for Jupyter notebooks\n",
    "def run_in_jupyter():\n",
    "    # Create the main window\n",
    "    root = tk.Tk()\n",
    "    \n",
    "    # Create and set up the app\n",
    "    app = FractalTreeApp(root)\n",
    "    \n",
    "    # Generate a tree immediately\n",
    "    root.update()  # This forces the window to update and realize its widgets\n",
    "    app.generate_tree()\n",
    "    \n",
    "    # Return the application and root for Jupyter to keep reference\n",
    "    return root, app\n",
    "\n",
    "# Use this line in Jupyter to run the app\n",
    "root, app = run_in_jupyter()\n",
    "root.mainloop()  # In some Jupyter environments, you might need to comment this out"
   ]
  },
  {
   "cell_type": "code",
   "execution_count": 1,
   "id": "0871f6b1-8bc0-4baa-bb83-a5da3ad2e7a2",
   "metadata": {},
   "outputs": [
    {
     "name": "stdin",
     "output_type": "stream",
     "text": [
      "Enter Hours:  45\n",
      "Enter Rate:  10\n"
     ]
    },
    {
     "name": "stdout",
     "output_type": "stream",
     "text": [
      "Pay: 475.0\n"
     ]
    }
   ],
   "source": [
    "# Lab20_1\n",
    "def compute_pay(hours, rate):\n",
    "    if hours > 40:\n",
    "        overtime_hours = hours - 40\n",
    "        overtime_pay = overtime_hours * (rate * 1.5)\n",
    "        regular_pay = 40 * rate\n",
    "        total_pay = regular_pay + overtime_pay\n",
    "    else:\n",
    "        total_pay = hours * rate\n",
    "    return total_pay\n",
    "\n",
    "# Prompt user for input\n",
    "try:\n",
    "    hours = float(input(\"Enter Hours: \"))\n",
    "    rate = float(input(\"Enter Rate: \"))\n",
    "    pay = compute_pay(hours, rate)\n",
    "    print(\"Pay:\", pay)\n",
    "except ValueError:\n",
    "    print(\"Error: Please enter numeric values for hours and rate.\")"
   ]
  },
  {
   "cell_type": "code",
   "execution_count": 2,
   "id": "23b2242d-cd65-4864-b50d-1dd204bfd510",
   "metadata": {},
   "outputs": [
    {
     "name": "stdout",
     "output_type": "stream",
     "text": [
      "{'name': 'Ryan', 'salary': 60000}\n"
     ]
    }
   ],
   "source": [
    "#Lab20_2\n",
    "sample_dict = {\n",
    "    \"name\": \"Ryan\",\n",
    "    \"age\": 21,\n",
    "    \"salary\": 60000,\n",
    "    \"city\": \"Boston\"\n",
    "}\n",
    "\n",
    "# Keys to extract\n",
    "keys = [\"name\", \"salary\"]\n",
    "\n",
    "# Extract the required keys\n",
    "new_dict = {key: sample_dict[key] for key in keys}\n",
    "\n",
    "# Print the result\n",
    "print(new_dict)"
   ]
  },
  {
   "cell_type": "code",
   "execution_count": 3,
   "id": "c3e77149-5259-4ad9-8005-143827916fc4",
   "metadata": {},
   "outputs": [
    {
     "name": "stdout",
     "output_type": "stream",
     "text": [
      "['My', 'name', 'is', 'Kelly']\n"
     ]
    }
   ],
   "source": [
    "#Lab20_3\n",
    "list1 = [\"M\", \"na\", \"i\", \"Ke\"]\n",
    "list2 = [\"y\", \"me\", \"s\", \"lly\"]\n",
    "\n",
    "# Using list comprehension with zip()\n",
    "result = [a + b for a, b in zip(list1, list2)]\n",
    "\n",
    "print(result)"
   ]
  },
  {
   "cell_type": "code",
   "execution_count": 4,
   "id": "852f7534-0051-48e0-8408-01ea110d64b5",
   "metadata": {},
   "outputs": [
    {
     "name": "stdout",
     "output_type": "stream",
     "text": [
      "(50, 30)\n"
     ]
    }
   ],
   "source": [
    "#Lab20_4\n",
    "def calculation(a, b):\n",
    "    addition = a + b\n",
    "    subtraction = a - b\n",
    "    return addition, subtraction\n",
    "\n",
    "# Calling the function\n",
    "res = calculation(40, 10)\n",
    "print(res)"
   ]
  },
  {
   "cell_type": "code",
   "execution_count": 5,
   "id": "6b444426-803f-4f5e-9466-8043cde08500",
   "metadata": {},
   "outputs": [
    {
     "name": "stdout",
     "output_type": "stream",
     "text": [
      "30\n"
     ]
    }
   ],
   "source": [
    "#Lab20_5\n",
    "def outer_function(a, b):\n",
    "    def inner_function():\n",
    "        return a + b\n",
    "    \n",
    "    addition_result = inner_function()\n",
    "    return addition_result + 5\n",
    "\n",
    "#Uaage\n",
    "result = outer_function(10, 15)\n",
    "print(result) "
   ]
  },
  {
   "cell_type": "code",
   "execution_count": 7,
   "id": "5090dae4-2e47-4a29-b9a6-6651929c54ca",
   "metadata": {},
   "outputs": [
    {
     "name": "stdout",
     "output_type": "stream",
     "text": [
      "tuple1: (99, 88)\n",
      "tuple2: (11, 22)\n"
     ]
    }
   ],
   "source": [
    "#Lab20_6\n",
    "tuple1 = (11, 22)\n",
    "tuple2 = (99, 88)\n",
    "\n",
    "# Swapping tuples\n",
    "tuple1, tuple2 = tuple2, tuple1\n",
    "\n",
    "print(\"tuple1:\", tuple1)\n",
    "print(\"tuple2:\", tuple2)"
   ]
  },
  {
   "cell_type": "code",
   "execution_count": 8,
   "id": "c796e388-15d3-4881-91c1-acc7d185ec8d",
   "metadata": {},
   "outputs": [
    {
     "name": "stdout",
     "output_type": "stream",
     "text": [
      "tuple1: (11, [222, 33], 44, 55)\n"
     ]
    }
   ],
   "source": [
    "#Lab20_7\n",
    "tuple1 = (11, [22, 33], 44, 55)\n",
    "\n",
    "# Modifying the first item of the list inside the tuple\n",
    "tuple1[1][0] = 222\n",
    "\n",
    "print(\"tuple1:\", tuple1)"
   ]
  },
  {
   "cell_type": "code",
   "execution_count": 9,
   "id": "83541f6f-20b5-4348-b52b-99be706beeb6",
   "metadata": {},
   "outputs": [
    {
     "name": "stdout",
     "output_type": "stream",
     "text": [
      "Math\n"
     ]
    }
   ],
   "source": [
    "#Lab20_8\n",
    "sample_dict = {\n",
    "    'Physics': 82,\n",
    "    'Math': 65,\n",
    "    'History': 75\n",
    "}\n",
    "\n",
    "# Get the key with the minimum value\n",
    "min_key = min(sample_dict, key=sample_dict.get)\n",
    "\n",
    "print(min_key)"
   ]
  },
  {
   "cell_type": "code",
   "execution_count": 10,
   "id": "c0ae2a7a-8941-4777-957f-34c7c6a48bdd",
   "metadata": {},
   "outputs": [
    {
     "name": "stdout",
     "output_type": "stream",
     "text": [
      "200 present in a dict\n"
     ]
    }
   ],
   "source": [
    "#Lab20_9\n",
    "sample_dict = {'a': 100, 'b': 200, 'c': 300}\n",
    "\n",
    "# Check if 200 exists in the dictionary values\n",
    "if 200 in sample_dict.values():\n",
    "    print(\"200 present in a dict\")\n",
    "else:\n",
    "    print(\"200 not found in a dict\")"
   ]
  },
  {
   "cell_type": "code",
   "execution_count": null,
   "id": "fb0a6273-90a4-4876-834d-16de2921d919",
   "metadata": {},
   "outputs": [],
   "source": [
    "#Lab20_10 Gen AI\n",
    "import tkinter as tk\n",
    "from tkinter import ttk, messagebox\n",
    "import random\n",
    "\n",
    "# Movie Recommendation System using HashMap\n",
    "class MovieRecommenderApp:\n",
    "    def __init__(self, root):\n",
    "        self.root = root\n",
    "        self.root.title(\"🎬 Movie Recommender 🍿\")\n",
    "        self.root.geometry(\"400x500\")\n",
    "        self.root.configure(bg=\"#2C3E50\")  # Dark background color\n",
    "\n",
    "        # HashMap (Dictionary) storing movie genres as keys and movie lists as values\n",
    "        self.movie_db = {\n",
    "            \"Action\": [\"Mad Max: Fury Road\", \"John Wick\", \"Gladiator\", \"Die Hard\"],\n",
    "            \"Comedy\": [\"Step Brothers\", \"Superbad\", \"The Hangover\", \"Dumb and Dumber\"],\n",
    "            \"Sci-Fi\": [\"Interstellar\", \"Inception\", \"The Matrix\", \"Blade Runner 2049\"],\n",
    "            \"Horror\": [\"The Conjuring\", \"A Nightmare on Elm Street\", \"The Exorcist\", \"It\"],\n",
    "            \"Drama\": [\"The Shawshank Redemption\", \"Forrest Gump\", \"The Green Mile\", \"Titanic\"]\n",
    "        }\n",
    "\n",
    "        # Title Label\n",
    "        self.title_label = tk.Label(root, text=\"🎬 Movie Recommender 🍿\", font=(\"Arial\", 16, \"bold\"), fg=\"white\", bg=\"#2C3E50\")\n",
    "        self.title_label.pack(pady=20)\n",
    "\n",
    "        # Genre Selection Label\n",
    "        self.genre_label = tk.Label(root, text=\"Select a Genre:\", font=(\"Arial\", 12, \"bold\"), fg=\"white\", bg=\"#2C3E50\")\n",
    "        self.genre_label.pack()\n",
    "\n",
    "        # Genre Dropdown Menu\n",
    "        self.genre_var = tk.StringVar()\n",
    "        self.genre_dropdown = ttk.Combobox(root, textvariable=self.genre_var, font=(\"Arial\", 12), state=\"readonly\")\n",
    "        self.genre_dropdown[\"values\"] = list(self.movie_db.keys())\n",
    "        self.genre_dropdown.pack(pady=10)\n",
    "\n",
    "        # Recommend Button\n",
    "        self.recommend_button = tk.Button(root, text=\"Get Recommendation\", font=(\"Arial\", 12, \"bold\"), bg=\"white\", fg=\"Black\", command=self.get_recommendation)\n",
    "        self.recommend_button.pack(pady=20)\n",
    "\n",
    "        # Result Label\n",
    "        self.result_label = tk.Label(root, text=\"\", font=(\"Arial\", 14, \"bold\"), fg=\"#F1C40F\", bg=\"#2C3E50\")\n",
    "        self.result_label.pack(pady=20)\n",
    "\n",
    "    def get_recommendation(self):\n",
    "        genre = self.genre_var.get()\n",
    "        if genre in self.movie_db:\n",
    "            movie = random.choice(self.movie_db[genre])\n",
    "            self.result_label.config(text=f\"🍿 {movie}\")\n",
    "        else:\n",
    "            messagebox.showerror(\"Error\", \"Please select a valid genre.\")\n",
    "\n",
    "# Run the app in Jupyter Notebook\n",
    "if __name__ == \"__main__\":\n",
    "    root = tk.Tk()\n",
    "    app = MovieRecommenderApp(root)\n",
    "    root.mainloop()"
   ]
  },
  {
   "cell_type": "code",
   "execution_count": null,
   "id": "9efcade5-06c4-4edc-bdaa-6c436636b457",
   "metadata": {},
   "outputs": [],
   "source": []
  }
 ],
 "metadata": {
  "kernelspec": {
   "display_name": "Python 3 (ipykernel)",
   "language": "python",
   "name": "python3"
  },
  "language_info": {
   "codemirror_mode": {
    "name": "ipython",
    "version": 3
   },
   "file_extension": ".py",
   "mimetype": "text/x-python",
   "name": "python",
   "nbconvert_exporter": "python",
   "pygments_lexer": "ipython3",
   "version": "3.13.2"
  }
 },
 "nbformat": 4,
 "nbformat_minor": 5
}
